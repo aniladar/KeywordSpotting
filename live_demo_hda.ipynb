{
 "cells": [
  {
   "cell_type": "markdown",
   "metadata": {},
   "source": [
    "#### Changing Display Size for WideScreen"
   ]
  },
  {
   "cell_type": "code",
   "execution_count": 5,
   "metadata": {},
   "outputs": [
    {
     "data": {
      "text/html": [
       "<style>.container { width:90% !important; }</style>"
      ],
      "text/plain": [
       "<IPython.core.display.HTML object>"
      ]
     },
     "metadata": {},
     "output_type": "display_data"
    }
   ],
   "source": [
    "# Change cell size to the 90% of the screen (widescreen)\n",
    "from IPython.core.display import display, HTML\n",
    "display(HTML(\"<style>.container { width:90% !important; }</style>\"))"
   ]
  },
  {
   "cell_type": "markdown",
   "metadata": {},
   "source": [
    "#### Importing Libraries"
   ]
  },
  {
   "cell_type": "code",
   "execution_count": 6,
   "metadata": {},
   "outputs": [],
   "source": [
    "import numpy as np\n",
    "import tensorflow as tf\n",
    "from tensorflow import keras\n",
    "from pathlib import Path\n",
    "from scipy.io import wavfile\n",
    "import python_speech_features\n",
    "from tqdm.notebook import tqdm\n",
    "import sounddevice as sd\n",
    "%matplotlib inline\n",
    "import matplotlib.pyplot as plt\n",
    "from datetime import datetime\n",
    "from scipy.signal import butter, sosfilt\n",
    "from timeit import default_timer as timer\n",
    "from IPython.display import clear_output"
   ]
  },
  {
   "cell_type": "markdown",
   "metadata": {},
   "source": [
    "#### Indexing words (labeling)\n"
   ]
  },
  {
   "cell_type": "code",
   "execution_count": 9,
   "metadata": {},
   "outputs": [],
   "source": [
    "word2index = {\"bed\":0,\n",
    "    \"bird\":1,\n",
    "    \"cat\":2,\n",
    "    \"dog\":3,\n",
    "    \"down\":4,\n",
    "    \"eight\":5,\n",
    "    \"five\":6,\n",
    "    \"four\":7,\n",
    "    \"go\":8,\n",
    "    \"happy\":9,\n",
    "    \"house\":10,\n",
    "    \"left\":11,\n",
    "    \"marvin\":12,\n",
    "    \"nine\":13,\n",
    "    \"no\":14,\n",
    "    \"off\":15,\n",
    "    \"on\":16,\n",
    "    \"one\":17,\n",
    "    \"right\":18,\n",
    "    \"seven\":19,\n",
    "    \"sheila\":20,\n",
    "    \"six\":21,\n",
    "    \"stop\":22,\n",
    "    \"three\":23,\n",
    "    \"tree\":24,\n",
    "    \"two\":25,\n",
    "    \"up\":26,\n",
    "    \"wow\":27,\n",
    "    \"yes\":28,\n",
    "    \"zero\":29,\n",
    "    \"backward\":30,\n",
    "    \"follow\":31,\n",
    "    \"forward\":32,\n",
    "    \"learn\":33,\n",
    "    \"visual\":34}\n",
    "\n",
    "index2word = [word for word in word2index]"
   ]
  },
  {
   "cell_type": "markdown",
   "metadata": {},
   "source": [
    "#### Audio Feature Extraction"
   ]
  },
  {
   "cell_type": "code",
   "execution_count": 10,
   "metadata": {},
   "outputs": [],
   "source": [
    "# compute MFCC features from audio signal\n",
    "def audio2feature(audio):\n",
    "    # compute MFCC coefficients\n",
    "    features = python_speech_features.mfcc(audio, samplerate=16000, winlen=0.025, winstep=0.01, numcep=13, nfilt=40, nfft=512, lowfreq=100, highfreq=None, preemph=0.97, ceplifter=22, appendEnergy=True, winfunc=np.hamming)\n",
    "    return features\n",
    "\n",
    "# load .wav-file, add some noise and compute MFCC features\n",
    "def wav2feature(filepath):\n",
    "    samplerate, data = wavfile.read(filepath)\n",
    "    # compute MFCC coefficients\n",
    "    features = python_speech_features.mfcc(data, samplerate=16000, winlen=0.025, winstep=0.01, numcep=13, nfilt=40, nfft=512, lowfreq=100, highfreq=None, preemph=0.97, ceplifter=22, appendEnergy=True, winfunc=np.hamming)\n",
    "    return features"
   ]
  },
  {
   "cell_type": "markdown",
   "metadata": {},
   "source": [
    "#### Loading the model"
   ]
  },
  {
   "cell_type": "code",
   "execution_count": 11,
   "metadata": {},
   "outputs": [],
   "source": [
    "model = keras.models.load_model(\"attRNN_35_final_demo.h5\")"
   ]
  },
  {
   "cell_type": "markdown",
   "metadata": {},
   "source": [
    "## Demo 1: from recorded .wav file"
   ]
  },
  {
   "cell_type": "code",
   "execution_count": 12,
   "metadata": {},
   "outputs": [],
   "source": [
    "#This is a simple tool to take .wav audio files, identify the loudest segment of a given length, and then write out that segment as a new .wav file.\n",
    "def extract_loudest_section(audio, length):\n",
    "    audio = audio[:, 0].astype(np.float) # to avoid integer overflow when squaring\n",
    "    audio_pw = audio**2 # power\n",
    "    window = np.ones((length, ))\n",
    "    conv = np.convolve(audio_pw, window, mode=\"valid\")\n",
    "    begin_index = conv.argmax()\n",
    "    return audio[begin_index:begin_index+length]"
   ]
  },
  {
   "cell_type": "code",
   "execution_count": 14,
   "metadata": {},
   "outputs": [
    {
     "name": "stdout",
     "output_type": "stream",
     "text": [
      "Best predictions:\n",
      "------------------------------\n",
      "1.)\thouse\t:\t47.4%\n",
      "2.)\tbed\t:\t26.5%\n",
      "3.)\twow\t:\t25.7%\n",
      "------------------------------\n",
      "Feature Computation Time: 4.0 ms\n"
     ]
    },
    {
     "data": {
      "image/png": "[encoded data removed]",
      "text/plain": [
       "<Figure size 720x504 with 2 Axes>"
      ]
     },
     "metadata": {
      "needs_background": "light"
     },
     "output_type": "display_data"
    }
   ],
   "source": [
    "# Recording settings (16kHz mono channel)\n",
    "sd.default.samplerate = 16000\n",
    "sd.default.channels = 1, 2 # mono record, stereo playback\n",
    "\n",
    "# 3 seconds recording\n",
    "recording = sd.rec(int(3*sd.default.samplerate), channels=1, samplerate=sd.default.samplerate, dtype=np.float, blocking=True)\n",
    "recording = extract_loudest_section(recording, int(1*sd.default.samplerate)) # extract 1s snippet with highest energy (only necessary if recording is >3s long)\n",
    "sd.play(recording, blocking=True)\n",
    "\n",
    "t1 = timer()\n",
    "recorded_feature = audio2feature(recording)\n",
    "t2 = timer()\n",
    "recorded_feature = np.expand_dims(recorded_feature, 0) # adding extra dimension for network\n",
    "prediction = model.predict(recorded_feature).reshape((35, ))\n",
    "t3 = timer()\n",
    "#  Prediction Normalization to get probabilities for labels\n",
    "prediction /= prediction.sum()\n",
    "\n",
    "# Print out the 3 labels with highest probability\n",
    "prediction_sorted_indices = prediction.argsort()\n",
    "print(\"Best predictions:\\n------------------------------\")\n",
    "for k in range(3):\n",
    "    i = int(prediction_sorted_indices[-1-k])\n",
    "    print(\"%d.)\\t%s\\t:\\t%2.1f%%\" % (k+1, index2word[i], prediction[i]*100))\n",
    "print(\"------------------------------\")\n",
    "print(\"Feature Computation Time: %2.1f ms\" % ((t2-t1)*1e3))\n",
    "\n",
    "plt.close()\n",
    "plt.figure(1, figsize=(10, 7))\n",
    "plt.subplot(211)\n",
    "plt.plot(recording)\n",
    "plt.subplot(212)\n",
    "plt.imshow(recorded_feature.reshape(99, 13).T, aspect=\"auto\")\n",
    "plt.show()"
   ]
  },
  {
   "cell_type": "markdown",
   "metadata": {},
   "source": [
    "## Demo 2: from microphone (real-time)"
   ]
  },
  {
   "cell_type": "code",
   "execution_count": 167,
   "metadata": {},
   "outputs": [],
   "source": [
    "audio_buffer = np.zeros((2, 8000))\n",
    "last_recognized_word = None\n",
    "last_recognition_time = 0.0\n",
    "recognition_timeout = 1.0\n",
    "\n",
    "def audio_stream_callback(indata, frames, time, status):\n",
    "    global audio_buffer\n",
    "    global model\n",
    "    global index2word\n",
    "    global last_recognized_word\n",
    "    global last_recognition_time\n",
    "    audio_buffer = np.roll(audio_buffer, shift=-1, axis=0)\n",
    "    audio_buffer[-1, :] = np.squeeze(indata)\n",
    "    t1 = timer()\n",
    "    recorded_feature = audio2feature(audio_buffer.flatten())\n",
    "    recorded_feature = np.expand_dims(recorded_feature, 0) # add \"fake\" batch dimension 1\n",
    "#     recorded_feature = recorded_feature[..., np.newaxis]\n",
    "#     recorded_feature = np.expand_dims(recorded_feature, 0)\n",
    "    t2 = timer()\n",
    "    prediction = model.predict(recorded_feature).reshape((35, ))\n",
    "    # normalize prediction output to get \"probabilities\"\n",
    "    prediction /= prediction.sum()\n",
    "    #print(prediction)\n",
    "    best_candidate_index = prediction.argmax()\n",
    "    best_candidate_probability = prediction[best_candidate_index]\n",
    "    t3 = timer()\n",
    "    if(best_candidate_probability > 0.7): # threshold for candidates\n",
    "        word = index2word[best_candidate_index]\n",
    "        if( (timer()-last_recognition_time)>recognition_timeout or word!=last_recognized_word ):\n",
    "            last_recognition_time = timer()\n",
    "            last_recognized_word = word\n",
    "            clear_output(wait=True) # clear output as soon as new output is available to replace it\n",
    "            print(\"%s\\t:\\t%2.1f%%\" % (word, best_candidate_probability*100))\n",
    "            print(\"-----------------------------\")"
   ]
  },
  {
   "cell_type": "code",
   "execution_count": 165,
   "metadata": {},
   "outputs": [
    {
     "name": "stdout",
     "output_type": "stream",
     "text": [
      "go\t:\t85.2%\n",
      "-----------------------------\n"
     ]
    }
   ],
   "source": [
    "# It tries to guess from the incoming audio signal by keeping the microphone on for X seconds.\n",
    "with sd.InputStream(samplerate=16000, blocksize=8000, device=None, channels=1, dtype=\"float32\", callback=audio_stream_callback):\n",
    "    sd.sleep(20*1000)\n"
   ]
  }
 ],
 "metadata": {
  "kernelspec": {
   "display_name": "Python 3",
   "language": "python",
   "name": "python3"
  },
  "language_info": {
   "codemirror_mode": {
    "name": "ipython",
    "version": 3
   },
   "file_extension": ".py",
   "mimetype": "text/x-python",
   "name": "python",
   "nbconvert_exporter": "python",
   "pygments_lexer": "ipython3",
   "version": "3.8.5"
  }
 },
 "nbformat": 4,
 "nbformat_minor": 4
}
